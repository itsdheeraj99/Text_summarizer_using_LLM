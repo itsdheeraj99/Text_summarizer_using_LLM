{
  "metadata": {
    "accelerator": "GPU",
    "colab": {
      "machine_shape": "hm",
      "provenance": []
    },
    "kernelspec": {
      "name": "local-pytorch-2-0",
      "display_name": "PyTorch 2.0 (Local)",
      "language": "python"
    },
    "language_info": {
      "name": "python",
      "version": "3.10.12",
      "mimetype": "text/x-python",
      "codemirror_mode": {
        "name": "ipython",
        "version": 3
      },
      "pygments_lexer": "ipython3",
      "nbconvert_exporter": "python",
      "file_extension": ".py"
    },
    "widgets": {
      "application/vnd.jupyter.widget-state+json": {
        "d8d9be6ebd824722a79ffa928b8c2d9e": {
          "model_module": "@jupyter-widgets/controls",
          "model_name": "HBoxModel",
          "model_module_version": "1.5.0",
          "state": {
            "_dom_classes": [],
            "_model_module": "@jupyter-widgets/controls",
            "_model_module_version": "1.5.0",
            "_model_name": "HBoxModel",
            "_view_count": null,
            "_view_module": "@jupyter-widgets/controls",
            "_view_module_version": "1.5.0",
            "_view_name": "HBoxView",
            "box_style": "",
            "children": [
              "IPY_MODEL_d53a67be452049678e78cb46aa2b174a",
              "IPY_MODEL_aa40e6523f414b09bf54f83cfd4c0330",
              "IPY_MODEL_cb0f6bed0d5842d993c6b84d079f949f"
            ],
            "layout": "IPY_MODEL_d65fafcf2cca4c9b809e22f3d2c75877"
          }
        },
        "d53a67be452049678e78cb46aa2b174a": {
          "model_module": "@jupyter-widgets/controls",
          "model_name": "HTMLModel",
          "model_module_version": "1.5.0",
          "state": {
            "_dom_classes": [],
            "_model_module": "@jupyter-widgets/controls",
            "_model_module_version": "1.5.0",
            "_model_name": "HTMLModel",
            "_view_count": null,
            "_view_module": "@jupyter-widgets/controls",
            "_view_module_version": "1.5.0",
            "_view_name": "HTMLView",
            "description": "",
            "description_tooltip": null,
            "layout": "IPY_MODEL_314d4d227a1e4470a0c7baa7d3f0c2b0",
            "placeholder": "​",
            "style": "IPY_MODEL_f3aa7cd75ba744d3b5a85c739c54fae6",
            "value": "Map: 100%"
          }
        },
        "aa40e6523f414b09bf54f83cfd4c0330": {
          "model_module": "@jupyter-widgets/controls",
          "model_name": "FloatProgressModel",
          "model_module_version": "1.5.0",
          "state": {
            "_dom_classes": [],
            "_model_module": "@jupyter-widgets/controls",
            "_model_module_version": "1.5.0",
            "_model_name": "FloatProgressModel",
            "_view_count": null,
            "_view_module": "@jupyter-widgets/controls",
            "_view_module_version": "1.5.0",
            "_view_name": "ProgressView",
            "bar_style": "success",
            "description": "",
            "description_tooltip": null,
            "layout": "IPY_MODEL_aedab843523a4fc49943725d0eed2b74",
            "max": 287113,
            "min": 0,
            "orientation": "horizontal",
            "style": "IPY_MODEL_831419a6c3d34c53b6dcf2155d9dce73",
            "value": 287113
          }
        },
        "cb0f6bed0d5842d993c6b84d079f949f": {
          "model_module": "@jupyter-widgets/controls",
          "model_name": "HTMLModel",
          "model_module_version": "1.5.0",
          "state": {
            "_dom_classes": [],
            "_model_module": "@jupyter-widgets/controls",
            "_model_module_version": "1.5.0",
            "_model_name": "HTMLModel",
            "_view_count": null,
            "_view_module": "@jupyter-widgets/controls",
            "_view_module_version": "1.5.0",
            "_view_name": "HTMLView",
            "description": "",
            "description_tooltip": null,
            "layout": "IPY_MODEL_8c6359a0fa9244178c8b10b1b47b5605",
            "placeholder": "​",
            "style": "IPY_MODEL_4f622f0e428748eb9b3dc50d294c7dae",
            "value": " 287113/287113 [17:08&lt;00:00, 272.15 examples/s]"
          }
        },
        "d65fafcf2cca4c9b809e22f3d2c75877": {
          "model_module": "@jupyter-widgets/base",
          "model_name": "LayoutModel",
          "model_module_version": "1.2.0",
          "state": {
            "_model_module": "@jupyter-widgets/base",
            "_model_module_version": "1.2.0",
            "_model_name": "LayoutModel",
            "_view_count": null,
            "_view_module": "@jupyter-widgets/base",
            "_view_module_version": "1.2.0",
            "_view_name": "LayoutView",
            "align_content": null,
            "align_items": null,
            "align_self": null,
            "border": null,
            "bottom": null,
            "display": null,
            "flex": null,
            "flex_flow": null,
            "grid_area": null,
            "grid_auto_columns": null,
            "grid_auto_flow": null,
            "grid_auto_rows": null,
            "grid_column": null,
            "grid_gap": null,
            "grid_row": null,
            "grid_template_areas": null,
            "grid_template_columns": null,
            "grid_template_rows": null,
            "height": null,
            "justify_content": null,
            "justify_items": null,
            "left": null,
            "margin": null,
            "max_height": null,
            "max_width": null,
            "min_height": null,
            "min_width": null,
            "object_fit": null,
            "object_position": null,
            "order": null,
            "overflow": null,
            "overflow_x": null,
            "overflow_y": null,
            "padding": null,
            "right": null,
            "top": null,
            "visibility": null,
            "width": null
          }
        },
        "314d4d227a1e4470a0c7baa7d3f0c2b0": {
          "model_module": "@jupyter-widgets/base",
          "model_name": "LayoutModel",
          "model_module_version": "1.2.0",
          "state": {
            "_model_module": "@jupyter-widgets/base",
            "_model_module_version": "1.2.0",
            "_model_name": "LayoutModel",
            "_view_count": null,
            "_view_module": "@jupyter-widgets/base",
            "_view_module_version": "1.2.0",
            "_view_name": "LayoutView",
            "align_content": null,
            "align_items": null,
            "align_self": null,
            "border": null,
            "bottom": null,
            "display": null,
            "flex": null,
            "flex_flow": null,
            "grid_area": null,
            "grid_auto_columns": null,
            "grid_auto_flow": null,
            "grid_auto_rows": null,
            "grid_column": null,
            "grid_gap": null,
            "grid_row": null,
            "grid_template_areas": null,
            "grid_template_columns": null,
            "grid_template_rows": null,
            "height": null,
            "justify_content": null,
            "justify_items": null,
            "left": null,
            "margin": null,
            "max_height": null,
            "max_width": null,
            "min_height": null,
            "min_width": null,
            "object_fit": null,
            "object_position": null,
            "order": null,
            "overflow": null,
            "overflow_x": null,
            "overflow_y": null,
            "padding": null,
            "right": null,
            "top": null,
            "visibility": null,
            "width": null
          }
        },
        "f3aa7cd75ba744d3b5a85c739c54fae6": {
          "model_module": "@jupyter-widgets/controls",
          "model_name": "DescriptionStyleModel",
          "model_module_version": "1.5.0",
          "state": {
            "_model_module": "@jupyter-widgets/controls",
            "_model_module_version": "1.5.0",
            "_model_name": "DescriptionStyleModel",
            "_view_count": null,
            "_view_module": "@jupyter-widgets/base",
            "_view_module_version": "1.2.0",
            "_view_name": "StyleView",
            "description_width": ""
          }
        },
        "aedab843523a4fc49943725d0eed2b74": {
          "model_module": "@jupyter-widgets/base",
          "model_name": "LayoutModel",
          "model_module_version": "1.2.0",
          "state": {
            "_model_module": "@jupyter-widgets/base",
            "_model_module_version": "1.2.0",
            "_model_name": "LayoutModel",
            "_view_count": null,
            "_view_module": "@jupyter-widgets/base",
            "_view_module_version": "1.2.0",
            "_view_name": "LayoutView",
            "align_content": null,
            "align_items": null,
            "align_self": null,
            "border": null,
            "bottom": null,
            "display": null,
            "flex": null,
            "flex_flow": null,
            "grid_area": null,
            "grid_auto_columns": null,
            "grid_auto_flow": null,
            "grid_auto_rows": null,
            "grid_column": null,
            "grid_gap": null,
            "grid_row": null,
            "grid_template_areas": null,
            "grid_template_columns": null,
            "grid_template_rows": null,
            "height": null,
            "justify_content": null,
            "justify_items": null,
            "left": null,
            "margin": null,
            "max_height": null,
            "max_width": null,
            "min_height": null,
            "min_width": null,
            "object_fit": null,
            "object_position": null,
            "order": null,
            "overflow": null,
            "overflow_x": null,
            "overflow_y": null,
            "padding": null,
            "right": null,
            "top": null,
            "visibility": null,
            "width": null
          }
        },
        "831419a6c3d34c53b6dcf2155d9dce73": {
          "model_module": "@jupyter-widgets/controls",
          "model_name": "ProgressStyleModel",
          "model_module_version": "1.5.0",
          "state": {
            "_model_module": "@jupyter-widgets/controls",
            "_model_module_version": "1.5.0",
            "_model_name": "ProgressStyleModel",
            "_view_count": null,
            "_view_module": "@jupyter-widgets/base",
            "_view_module_version": "1.2.0",
            "_view_name": "StyleView",
            "bar_color": null,
            "description_width": ""
          }
        },
        "8c6359a0fa9244178c8b10b1b47b5605": {
          "model_module": "@jupyter-widgets/base",
          "model_name": "LayoutModel",
          "model_module_version": "1.2.0",
          "state": {
            "_model_module": "@jupyter-widgets/base",
            "_model_module_version": "1.2.0",
            "_model_name": "LayoutModel",
            "_view_count": null,
            "_view_module": "@jupyter-widgets/base",
            "_view_module_version": "1.2.0",
            "_view_name": "LayoutView",
            "align_content": null,
            "align_items": null,
            "align_self": null,
            "border": null,
            "bottom": null,
            "display": null,
            "flex": null,
            "flex_flow": null,
            "grid_area": null,
            "grid_auto_columns": null,
            "grid_auto_flow": null,
            "grid_auto_rows": null,
            "grid_column": null,
            "grid_gap": null,
            "grid_row": null,
            "grid_template_areas": null,
            "grid_template_columns": null,
            "grid_template_rows": null,
            "height": null,
            "justify_content": null,
            "justify_items": null,
            "left": null,
            "margin": null,
            "max_height": null,
            "max_width": null,
            "min_height": null,
            "min_width": null,
            "object_fit": null,
            "object_position": null,
            "order": null,
            "overflow": null,
            "overflow_x": null,
            "overflow_y": null,
            "padding": null,
            "right": null,
            "top": null,
            "visibility": null,
            "width": null
          }
        },
        "4f622f0e428748eb9b3dc50d294c7dae": {
          "model_module": "@jupyter-widgets/controls",
          "model_name": "DescriptionStyleModel",
          "model_module_version": "1.5.0",
          "state": {
            "_model_module": "@jupyter-widgets/controls",
            "_model_module_version": "1.5.0",
            "_model_name": "DescriptionStyleModel",
            "_view_count": null,
            "_view_module": "@jupyter-widgets/base",
            "_view_module_version": "1.2.0",
            "_view_name": "StyleView",
            "description_width": ""
          }
        },
        "7fdb6de55cac490c83b33ccf3d410310": {
          "model_module": "@jupyter-widgets/controls",
          "model_name": "HBoxModel",
          "model_module_version": "1.5.0",
          "state": {
            "_dom_classes": [],
            "_model_module": "@jupyter-widgets/controls",
            "_model_module_version": "1.5.0",
            "_model_name": "HBoxModel",
            "_view_count": null,
            "_view_module": "@jupyter-widgets/controls",
            "_view_module_version": "1.5.0",
            "_view_name": "HBoxView",
            "box_style": "",
            "children": [
              "IPY_MODEL_01cdd46822da42b98f435e20009e4341",
              "IPY_MODEL_8f8adf1e55b54c8394c47c6e21483617",
              "IPY_MODEL_720f5c6972ab4c8d9dcb2c0d8651dede"
            ],
            "layout": "IPY_MODEL_26f30a3b13414682a60a943b9cff0f3a"
          }
        },
        "01cdd46822da42b98f435e20009e4341": {
          "model_module": "@jupyter-widgets/controls",
          "model_name": "HTMLModel",
          "model_module_version": "1.5.0",
          "state": {
            "_dom_classes": [],
            "_model_module": "@jupyter-widgets/controls",
            "_model_module_version": "1.5.0",
            "_model_name": "HTMLModel",
            "_view_count": null,
            "_view_module": "@jupyter-widgets/controls",
            "_view_module_version": "1.5.0",
            "_view_name": "HTMLView",
            "description": "",
            "description_tooltip": null,
            "layout": "IPY_MODEL_4abe065cefca4120b3cb144afbab5db1",
            "placeholder": "​",
            "style": "IPY_MODEL_55d7803d58ef43408472e34019f3db82",
            "value": "Map: 100%"
          }
        },
        "8f8adf1e55b54c8394c47c6e21483617": {
          "model_module": "@jupyter-widgets/controls",
          "model_name": "FloatProgressModel",
          "model_module_version": "1.5.0",
          "state": {
            "_dom_classes": [],
            "_model_module": "@jupyter-widgets/controls",
            "_model_module_version": "1.5.0",
            "_model_name": "FloatProgressModel",
            "_view_count": null,
            "_view_module": "@jupyter-widgets/controls",
            "_view_module_version": "1.5.0",
            "_view_name": "ProgressView",
            "bar_style": "success",
            "description": "",
            "description_tooltip": null,
            "layout": "IPY_MODEL_0feabb3186a34fae8f823828c449eb9a",
            "max": 13368,
            "min": 0,
            "orientation": "horizontal",
            "style": "IPY_MODEL_edf36b11ada94005b2204cdb5abc3096",
            "value": 13368
          }
        },
        "720f5c6972ab4c8d9dcb2c0d8651dede": {
          "model_module": "@jupyter-widgets/controls",
          "model_name": "HTMLModel",
          "model_module_version": "1.5.0",
          "state": {
            "_dom_classes": [],
            "_model_module": "@jupyter-widgets/controls",
            "_model_module_version": "1.5.0",
            "_model_name": "HTMLModel",
            "_view_count": null,
            "_view_module": "@jupyter-widgets/controls",
            "_view_module_version": "1.5.0",
            "_view_name": "HTMLView",
            "description": "",
            "description_tooltip": null,
            "layout": "IPY_MODEL_f74644188475449ea2f9864b77b17ebd",
            "placeholder": "​",
            "style": "IPY_MODEL_018a4293756e4a29a2505a431ae89b62",
            "value": " 13368/13368 [00:47&lt;00:00, 264.58 examples/s]"
          }
        },
        "26f30a3b13414682a60a943b9cff0f3a": {
          "model_module": "@jupyter-widgets/base",
          "model_name": "LayoutModel",
          "model_module_version": "1.2.0",
          "state": {
            "_model_module": "@jupyter-widgets/base",
            "_model_module_version": "1.2.0",
            "_model_name": "LayoutModel",
            "_view_count": null,
            "_view_module": "@jupyter-widgets/base",
            "_view_module_version": "1.2.0",
            "_view_name": "LayoutView",
            "align_content": null,
            "align_items": null,
            "align_self": null,
            "border": null,
            "bottom": null,
            "display": null,
            "flex": null,
            "flex_flow": null,
            "grid_area": null,
            "grid_auto_columns": null,
            "grid_auto_flow": null,
            "grid_auto_rows": null,
            "grid_column": null,
            "grid_gap": null,
            "grid_row": null,
            "grid_template_areas": null,
            "grid_template_columns": null,
            "grid_template_rows": null,
            "height": null,
            "justify_content": null,
            "justify_items": null,
            "left": null,
            "margin": null,
            "max_height": null,
            "max_width": null,
            "min_height": null,
            "min_width": null,
            "object_fit": null,
            "object_position": null,
            "order": null,
            "overflow": null,
            "overflow_x": null,
            "overflow_y": null,
            "padding": null,
            "right": null,
            "top": null,
            "visibility": null,
            "width": null
          }
        },
        "4abe065cefca4120b3cb144afbab5db1": {
          "model_module": "@jupyter-widgets/base",
          "model_name": "LayoutModel",
          "model_module_version": "1.2.0",
          "state": {
            "_model_module": "@jupyter-widgets/base",
            "_model_module_version": "1.2.0",
            "_model_name": "LayoutModel",
            "_view_count": null,
            "_view_module": "@jupyter-widgets/base",
            "_view_module_version": "1.2.0",
            "_view_name": "LayoutView",
            "align_content": null,
            "align_items": null,
            "align_self": null,
            "border": null,
            "bottom": null,
            "display": null,
            "flex": null,
            "flex_flow": null,
            "grid_area": null,
            "grid_auto_columns": null,
            "grid_auto_flow": null,
            "grid_auto_rows": null,
            "grid_column": null,
            "grid_gap": null,
            "grid_row": null,
            "grid_template_areas": null,
            "grid_template_columns": null,
            "grid_template_rows": null,
            "height": null,
            "justify_content": null,
            "justify_items": null,
            "left": null,
            "margin": null,
            "max_height": null,
            "max_width": null,
            "min_height": null,
            "min_width": null,
            "object_fit": null,
            "object_position": null,
            "order": null,
            "overflow": null,
            "overflow_x": null,
            "overflow_y": null,
            "padding": null,
            "right": null,
            "top": null,
            "visibility": null,
            "width": null
          }
        },
        "55d7803d58ef43408472e34019f3db82": {
          "model_module": "@jupyter-widgets/controls",
          "model_name": "DescriptionStyleModel",
          "model_module_version": "1.5.0",
          "state": {
            "_model_module": "@jupyter-widgets/controls",
            "_model_module_version": "1.5.0",
            "_model_name": "DescriptionStyleModel",
            "_view_count": null,
            "_view_module": "@jupyter-widgets/base",
            "_view_module_version": "1.2.0",
            "_view_name": "StyleView",
            "description_width": ""
          }
        },
        "0feabb3186a34fae8f823828c449eb9a": {
          "model_module": "@jupyter-widgets/base",
          "model_name": "LayoutModel",
          "model_module_version": "1.2.0",
          "state": {
            "_model_module": "@jupyter-widgets/base",
            "_model_module_version": "1.2.0",
            "_model_name": "LayoutModel",
            "_view_count": null,
            "_view_module": "@jupyter-widgets/base",
            "_view_module_version": "1.2.0",
            "_view_name": "LayoutView",
            "align_content": null,
            "align_items": null,
            "align_self": null,
            "border": null,
            "bottom": null,
            "display": null,
            "flex": null,
            "flex_flow": null,
            "grid_area": null,
            "grid_auto_columns": null,
            "grid_auto_flow": null,
            "grid_auto_rows": null,
            "grid_column": null,
            "grid_gap": null,
            "grid_row": null,
            "grid_template_areas": null,
            "grid_template_columns": null,
            "grid_template_rows": null,
            "height": null,
            "justify_content": null,
            "justify_items": null,
            "left": null,
            "margin": null,
            "max_height": null,
            "max_width": null,
            "min_height": null,
            "min_width": null,
            "object_fit": null,
            "object_position": null,
            "order": null,
            "overflow": null,
            "overflow_x": null,
            "overflow_y": null,
            "padding": null,
            "right": null,
            "top": null,
            "visibility": null,
            "width": null
          }
        },
        "edf36b11ada94005b2204cdb5abc3096": {
          "model_module": "@jupyter-widgets/controls",
          "model_name": "ProgressStyleModel",
          "model_module_version": "1.5.0",
          "state": {
            "_model_module": "@jupyter-widgets/controls",
            "_model_module_version": "1.5.0",
            "_model_name": "ProgressStyleModel",
            "_view_count": null,
            "_view_module": "@jupyter-widgets/base",
            "_view_module_version": "1.2.0",
            "_view_name": "StyleView",
            "bar_color": null,
            "description_width": ""
          }
        },
        "f74644188475449ea2f9864b77b17ebd": {
          "model_module": "@jupyter-widgets/base",
          "model_name": "LayoutModel",
          "model_module_version": "1.2.0",
          "state": {
            "_model_module": "@jupyter-widgets/base",
            "_model_module_version": "1.2.0",
            "_model_name": "LayoutModel",
            "_view_count": null,
            "_view_module": "@jupyter-widgets/base",
            "_view_module_version": "1.2.0",
            "_view_name": "LayoutView",
            "align_content": null,
            "align_items": null,
            "align_self": null,
            "border": null,
            "bottom": null,
            "display": null,
            "flex": null,
            "flex_flow": null,
            "grid_area": null,
            "grid_auto_columns": null,
            "grid_auto_flow": null,
            "grid_auto_rows": null,
            "grid_column": null,
            "grid_gap": null,
            "grid_row": null,
            "grid_template_areas": null,
            "grid_template_columns": null,
            "grid_template_rows": null,
            "height": null,
            "justify_content": null,
            "justify_items": null,
            "left": null,
            "margin": null,
            "max_height": null,
            "max_width": null,
            "min_height": null,
            "min_width": null,
            "object_fit": null,
            "object_position": null,
            "order": null,
            "overflow": null,
            "overflow_x": null,
            "overflow_y": null,
            "padding": null,
            "right": null,
            "top": null,
            "visibility": null,
            "width": null
          }
        },
        "018a4293756e4a29a2505a431ae89b62": {
          "model_module": "@jupyter-widgets/controls",
          "model_name": "DescriptionStyleModel",
          "model_module_version": "1.5.0",
          "state": {
            "_model_module": "@jupyter-widgets/controls",
            "_model_module_version": "1.5.0",
            "_model_name": "DescriptionStyleModel",
            "_view_count": null,
            "_view_module": "@jupyter-widgets/base",
            "_view_module_version": "1.2.0",
            "_view_name": "StyleView",
            "description_width": ""
          }
        },
        "7cba9bab65014d3a90d86dadea669937": {
          "model_module": "@jupyter-widgets/controls",
          "model_name": "HBoxModel",
          "model_module_version": "1.5.0",
          "state": {
            "_dom_classes": [],
            "_model_module": "@jupyter-widgets/controls",
            "_model_module_version": "1.5.0",
            "_model_name": "HBoxModel",
            "_view_count": null,
            "_view_module": "@jupyter-widgets/controls",
            "_view_module_version": "1.5.0",
            "_view_name": "HBoxView",
            "box_style": "",
            "children": [
              "IPY_MODEL_779a2d1107b641258ace247ce1e289b9",
              "IPY_MODEL_483b35b9c09c4b6e8e2701b1eeb5cd00",
              "IPY_MODEL_5f1d9c9db78049c689ae6c3ef67b3572"
            ],
            "layout": "IPY_MODEL_3d5b2a5359aa450daf03d250206371c6"
          }
        },
        "779a2d1107b641258ace247ce1e289b9": {
          "model_module": "@jupyter-widgets/controls",
          "model_name": "HTMLModel",
          "model_module_version": "1.5.0",
          "state": {
            "_dom_classes": [],
            "_model_module": "@jupyter-widgets/controls",
            "_model_module_version": "1.5.0",
            "_model_name": "HTMLModel",
            "_view_count": null,
            "_view_module": "@jupyter-widgets/controls",
            "_view_module_version": "1.5.0",
            "_view_name": "HTMLView",
            "description": "",
            "description_tooltip": null,
            "layout": "IPY_MODEL_3b75087b66d44d1ba5a2221ba2ca8675",
            "placeholder": "​",
            "style": "IPY_MODEL_95e7f3e449d9479887fbc157763650db",
            "value": "Map: 100%"
          }
        },
        "483b35b9c09c4b6e8e2701b1eeb5cd00": {
          "model_module": "@jupyter-widgets/controls",
          "model_name": "FloatProgressModel",
          "model_module_version": "1.5.0",
          "state": {
            "_dom_classes": [],
            "_model_module": "@jupyter-widgets/controls",
            "_model_module_version": "1.5.0",
            "_model_name": "FloatProgressModel",
            "_view_count": null,
            "_view_module": "@jupyter-widgets/controls",
            "_view_module_version": "1.5.0",
            "_view_name": "ProgressView",
            "bar_style": "success",
            "description": "",
            "description_tooltip": null,
            "layout": "IPY_MODEL_9d8f278552e7435ab2b257598b222580",
            "max": 11490,
            "min": 0,
            "orientation": "horizontal",
            "style": "IPY_MODEL_e629b5cea4d746a0a1eee0c6bb4ef5c9",
            "value": 11490
          }
        },
        "5f1d9c9db78049c689ae6c3ef67b3572": {
          "model_module": "@jupyter-widgets/controls",
          "model_name": "HTMLModel",
          "model_module_version": "1.5.0",
          "state": {
            "_dom_classes": [],
            "_model_module": "@jupyter-widgets/controls",
            "_model_module_version": "1.5.0",
            "_model_name": "HTMLModel",
            "_view_count": null,
            "_view_module": "@jupyter-widgets/controls",
            "_view_module_version": "1.5.0",
            "_view_name": "HTMLView",
            "description": "",
            "description_tooltip": null,
            "layout": "IPY_MODEL_724c85fc995b43588174721e76fa13b4",
            "placeholder": "​",
            "style": "IPY_MODEL_5576dd0d26fb4965a3d5ddc4340ccb34",
            "value": " 11490/11490 [00:45&lt;00:00, 243.51 examples/s]"
          }
        },
        "3d5b2a5359aa450daf03d250206371c6": {
          "model_module": "@jupyter-widgets/base",
          "model_name": "LayoutModel",
          "model_module_version": "1.2.0",
          "state": {
            "_model_module": "@jupyter-widgets/base",
            "_model_module_version": "1.2.0",
            "_model_name": "LayoutModel",
            "_view_count": null,
            "_view_module": "@jupyter-widgets/base",
            "_view_module_version": "1.2.0",
            "_view_name": "LayoutView",
            "align_content": null,
            "align_items": null,
            "align_self": null,
            "border": null,
            "bottom": null,
            "display": null,
            "flex": null,
            "flex_flow": null,
            "grid_area": null,
            "grid_auto_columns": null,
            "grid_auto_flow": null,
            "grid_auto_rows": null,
            "grid_column": null,
            "grid_gap": null,
            "grid_row": null,
            "grid_template_areas": null,
            "grid_template_columns": null,
            "grid_template_rows": null,
            "height": null,
            "justify_content": null,
            "justify_items": null,
            "left": null,
            "margin": null,
            "max_height": null,
            "max_width": null,
            "min_height": null,
            "min_width": null,
            "object_fit": null,
            "object_position": null,
            "order": null,
            "overflow": null,
            "overflow_x": null,
            "overflow_y": null,
            "padding": null,
            "right": null,
            "top": null,
            "visibility": null,
            "width": null
          }
        },
        "3b75087b66d44d1ba5a2221ba2ca8675": {
          "model_module": "@jupyter-widgets/base",
          "model_name": "LayoutModel",
          "model_module_version": "1.2.0",
          "state": {
            "_model_module": "@jupyter-widgets/base",
            "_model_module_version": "1.2.0",
            "_model_name": "LayoutModel",
            "_view_count": null,
            "_view_module": "@jupyter-widgets/base",
            "_view_module_version": "1.2.0",
            "_view_name": "LayoutView",
            "align_content": null,
            "align_items": null,
            "align_self": null,
            "border": null,
            "bottom": null,
            "display": null,
            "flex": null,
            "flex_flow": null,
            "grid_area": null,
            "grid_auto_columns": null,
            "grid_auto_flow": null,
            "grid_auto_rows": null,
            "grid_column": null,
            "grid_gap": null,
            "grid_row": null,
            "grid_template_areas": null,
            "grid_template_columns": null,
            "grid_template_rows": null,
            "height": null,
            "justify_content": null,
            "justify_items": null,
            "left": null,
            "margin": null,
            "max_height": null,
            "max_width": null,
            "min_height": null,
            "min_width": null,
            "object_fit": null,
            "object_position": null,
            "order": null,
            "overflow": null,
            "overflow_x": null,
            "overflow_y": null,
            "padding": null,
            "right": null,
            "top": null,
            "visibility": null,
            "width": null
          }
        },
        "95e7f3e449d9479887fbc157763650db": {
          "model_module": "@jupyter-widgets/controls",
          "model_name": "DescriptionStyleModel",
          "model_module_version": "1.5.0",
          "state": {
            "_model_module": "@jupyter-widgets/controls",
            "_model_module_version": "1.5.0",
            "_model_name": "DescriptionStyleModel",
            "_view_count": null,
            "_view_module": "@jupyter-widgets/base",
            "_view_module_version": "1.2.0",
            "_view_name": "StyleView",
            "description_width": ""
          }
        },
        "9d8f278552e7435ab2b257598b222580": {
          "model_module": "@jupyter-widgets/base",
          "model_name": "LayoutModel",
          "model_module_version": "1.2.0",
          "state": {
            "_model_module": "@jupyter-widgets/base",
            "_model_module_version": "1.2.0",
            "_model_name": "LayoutModel",
            "_view_count": null,
            "_view_module": "@jupyter-widgets/base",
            "_view_module_version": "1.2.0",
            "_view_name": "LayoutView",
            "align_content": null,
            "align_items": null,
            "align_self": null,
            "border": null,
            "bottom": null,
            "display": null,
            "flex": null,
            "flex_flow": null,
            "grid_area": null,
            "grid_auto_columns": null,
            "grid_auto_flow": null,
            "grid_auto_rows": null,
            "grid_column": null,
            "grid_gap": null,
            "grid_row": null,
            "grid_template_areas": null,
            "grid_template_columns": null,
            "grid_template_rows": null,
            "height": null,
            "justify_content": null,
            "justify_items": null,
            "left": null,
            "margin": null,
            "max_height": null,
            "max_width": null,
            "min_height": null,
            "min_width": null,
            "object_fit": null,
            "object_position": null,
            "order": null,
            "overflow": null,
            "overflow_x": null,
            "overflow_y": null,
            "padding": null,
            "right": null,
            "top": null,
            "visibility": null,
            "width": null
          }
        },
        "e629b5cea4d746a0a1eee0c6bb4ef5c9": {
          "model_module": "@jupyter-widgets/controls",
          "model_name": "ProgressStyleModel",
          "model_module_version": "1.5.0",
          "state": {
            "_model_module": "@jupyter-widgets/controls",
            "_model_module_version": "1.5.0",
            "_model_name": "ProgressStyleModel",
            "_view_count": null,
            "_view_module": "@jupyter-widgets/base",
            "_view_module_version": "1.2.0",
            "_view_name": "StyleView",
            "bar_color": null,
            "description_width": ""
          }
        },
        "724c85fc995b43588174721e76fa13b4": {
          "model_module": "@jupyter-widgets/base",
          "model_name": "LayoutModel",
          "model_module_version": "1.2.0",
          "state": {
            "_model_module": "@jupyter-widgets/base",
            "_model_module_version": "1.2.0",
            "_model_name": "LayoutModel",
            "_view_count": null,
            "_view_module": "@jupyter-widgets/base",
            "_view_module_version": "1.2.0",
            "_view_name": "LayoutView",
            "align_content": null,
            "align_items": null,
            "align_self": null,
            "border": null,
            "bottom": null,
            "display": null,
            "flex": null,
            "flex_flow": null,
            "grid_area": null,
            "grid_auto_columns": null,
            "grid_auto_flow": null,
            "grid_auto_rows": null,
            "grid_column": null,
            "grid_gap": null,
            "grid_row": null,
            "grid_template_areas": null,
            "grid_template_columns": null,
            "grid_template_rows": null,
            "height": null,
            "justify_content": null,
            "justify_items": null,
            "left": null,
            "margin": null,
            "max_height": null,
            "max_width": null,
            "min_height": null,
            "min_width": null,
            "object_fit": null,
            "object_position": null,
            "order": null,
            "overflow": null,
            "overflow_x": null,
            "overflow_y": null,
            "padding": null,
            "right": null,
            "top": null,
            "visibility": null,
            "width": null
          }
        },
        "5576dd0d26fb4965a3d5ddc4340ccb34": {
          "model_module": "@jupyter-widgets/controls",
          "model_name": "DescriptionStyleModel",
          "model_module_version": "1.5.0",
          "state": {
            "_model_module": "@jupyter-widgets/controls",
            "_model_module_version": "1.5.0",
            "_model_name": "DescriptionStyleModel",
            "_view_count": null,
            "_view_module": "@jupyter-widgets/base",
            "_view_module_version": "1.2.0",
            "_view_name": "StyleView",
            "description_width": ""
          }
        }
      }
    }
  },
  "nbformat_minor": 0,
  "nbformat": 4,
  "cells": [
    {
      "cell_type": "code",
      "source": [
        "!pip install -q transformers rouge-score accelerate evaluate datasets\n"
      ],
      "metadata": {
        "id": "Y4VNOs866xPt",
        "trusted": true
      },
      "execution_count": null,
      "outputs": []
    },
    {
      "cell_type": "markdown",
      "source": [
        "## Import the dependencies"
      ],
      "metadata": {
        "id": "XBqfeHCv4c4r"
      }
    },
    {
      "cell_type": "code",
      "source": [
        "import transformers\n",
        "from transformers import AutoTokenizer, AutoModelForSeq2SeqLM, AdamW, get_linear_schedule_with_warmup, DataCollatorForSeq2Seq, Seq2SeqTrainingArguments, Seq2SeqTrainer\n",
        "from tqdm import tqdm\n",
        "\n",
        "import pandas as pd\n",
        "import numpy as np\n",
        "import torch\n",
        "from torch.utils.data import Dataset, DataLoader\n",
        "from torch import nn, optim\n",
        "from pylab import rcParams\n",
        "import matplotlib.pyplot as plt\n",
        "from matplotlib import rc\n",
        "from sklearn.model_selection import train_test_split\n",
        "from sklearn.metrics import confusion_matrix, classification_report\n",
        "from collections import defaultdict\n",
        "from textwrap import wrap\n",
        "import torch.nn.functional as F\n",
        "from accelerate import Accelerator\n",
        "import evaluate\n",
        "import warnings\n",
        "warnings.filterwarnings('ignore')\n"
      ],
      "metadata": {
        "id": "2zpwZ4HQ60h3",
        "trusted": true
      },
      "execution_count": null,
      "outputs": []
    },
    {
      "cell_type": "code",
      "source": [
        "from datasets import load_dataset"
      ],
      "metadata": {
        "id": "3lEstCOO5ShD",
        "trusted": true
      },
      "execution_count": null,
      "outputs": []
    },
    {
      "cell_type": "code",
      "source": [
        "import nltk\n",
        "nltk.download('punkt')\n",
        "\n",
        "from nltk import sent_tokenize"
      ],
      "metadata": {
        "colab": {
          "base_uri": "https://localhost:8080/"
        },
        "id": "LJE1G1uTVxfu",
        "outputId": "9493651f-7bee-4530-8f4e-682fe527e2d9",
        "trusted": true
      },
      "execution_count": null,
      "outputs": [
        {
          "name": "stderr",
          "text": "[nltk_data] Downloading package punkt to /home/jupyter/nltk_data...\n[nltk_data]   Package punkt is already up-to-date!\n",
          "output_type": "stream"
        }
      ]
    },
    {
      "cell_type": "code",
      "source": [
        "device = torch.device(\"cuda\" if torch.cuda.is_available() else \"cpu\")\n",
        "print(device)"
      ],
      "metadata": {
        "colab": {
          "base_uri": "https://localhost:8080/"
        },
        "id": "hq0V5-1DBMQU",
        "outputId": "8ae1c151-b60a-42dd-99b6-adff5c604526",
        "trusted": true
      },
      "execution_count": null,
      "outputs": [
        {
          "name": "stdout",
          "text": "cuda\n",
          "output_type": "stream"
        }
      ]
    },
    {
      "cell_type": "markdown",
      "source": [
        "## Loading the data"
      ],
      "metadata": {
        "id": "TRZhogJ14s1L"
      }
    },
    {
      "cell_type": "code",
      "source": [
        "data = load_dataset(\"cnn_dailymail\", \"3.0.0\")"
      ],
      "metadata": {
        "id": "IlO28Vr15rTv",
        "trusted": true
      },
      "execution_count": null,
      "outputs": []
    },
    {
      "cell_type": "code",
      "source": [
        "def show_samples(data, num_samples=3, seed=42):\n",
        "    sample = data[\"train\"].shuffle(seed=seed).select(range(num_samples))\n",
        "    for example in sample:\n",
        "        print(f\"\\n'>> Article: {example['article']}'\")\n",
        "        print(f\"'>> Summary: {example['highlights']}'\")\n",
        "\n",
        "show_samples(data, num_samples=3, seed=42)"
      ],
      "metadata": {
        "id": "QX8LU2XP6L6v",
        "colab": {
          "base_uri": "https://localhost:8080/"
        },
        "outputId": "7a548b00-f84d-4279-c8cc-9c4135844e2e",
        "trusted": true
      },
      "execution_count": null,
      "outputs": [
        {
          "name": "stdout",
          "text": "\n'>> Article: By . Anthony Bond . PUBLISHED: . 07:03 EST, 2 March 2013 . | . UPDATED: . 08:07 EST, 2 March 2013 . Three members of the same family who died in a static caravan from carbon monoxide poisoning would have been unconscious 'within minutes', investigators said today. The bodies of married couple John and Audrey Cook were discovered alongside their daughter, Maureen, at the mobile home they shared on Tremarle Home Park in Camborne, west Cornwall. The inquests have now opened into the deaths last Saturday, with investigators saying the three died along with the family's pet dog, of carbon monoxide poisoning from a cooker. Tragic: The inquests have opened into the deaths of three members of the same family who were found in their static caravan last weekend. John and Audrey Cook are pictured . Awful: The family died following carbon monoxide poisoning at this caravan at the Tremarle Home Park in Camborne, Cornwall . It is also believed there was no working carbon monoxide detector in the static caravan. Cornwall Fire and Rescue Service said this would have resulted in the three being unconscious 'within minutes', . A spokesman for Cornwall coroner Dr Emma Carlyon confirmed the inquests were opened and adjourned yesterday afternoon. They will resume at a later date. Devon and Cornwall Police confirmed on Monday that carbon monoxide poisoning had been established as the cause of death. A police spokesman said the source of the poisoning was 'believed to be from incorrect operation of the gas cooker'. Poisoning: This woman left flowers outside the caravan following the deaths. It has emerged that the trio would have been unconscious 'within minutes' Touching: This tribute was left outside the caravan following news of the deaths . Early readings from experts at the site revealed a potentially lethal level of carbon monoxide present within the caravan at the time it was taken, shortly after the discovery of the bodies. Friends and neighbours have paid tribute to the trio. One . neighbour, Sonya Owen, 53, said: 'It's very distressing. I knew the . daughter, she was living her with her mum and dad. Everybody is really . upset.' Margaret Holmes, 65, who lived near the couple and their . daughter, said: 'They had lived here for around 40 years and they kept . themselves to themselves. 'I just can’t believe this has . happened, it is so sad and I am so shocked, I think we all are, you just . don’t expect this sort of thing to happen on your doorstep. 'Everyone will miss them, we used to chat a lot when we were both in the garden. 'I would just like to send my condolences to their family, I can’t imagine what they’re going through.' Nic Clark, 52, who was good friends with daughter Maureen, added: 'They were a lovely kind family, a great trio. 'Maureen . used to go out and walk her dog, a little Jack Russell, it is so sad . what has happened, I understand the dog went with them. 'They . will be sorely missed and I think everyone is just in shock at the . moment, I would like to send my condolences to the Cook family.''\n'>> Summary: John and .\nAudrey Cook were discovered alongside their daughter, Maureen .\nThey were found at Tremarle Home Park in Cornwall .\nInvestigators say the three died of carbon monoxide .\npoisoning .'\n\n'>> Article: UNITED NATIONS (CNN) -- A rare meeting of U.N. Security Council heads of state, led for the first time by a U.S. president, adopted a resolution focused on stopping the spread of nuclear weapons Thursday. President Obama is the first U.S. leader to head a United Nations Security Council meeting. President Obama challenged the gathering -- which included leaders of nuclear powers including Russia, China, Great Britain and France -- to overcome cynicism against the goal of ridding the planet of nuclear arms. \"We harbor no illusions about the difficulty of bringing about a world without nuclear weapons,\" Obama said, adding that Thursday's meeting signaled a significant step forward in cooperative global action. The resolution, which was adopted unanimously, calls for tighter controls on nuclear materials to prevent them from being used for military purposes or stolen. It also encourages enforcement of international treaties and U.N. resolutions regarding nuclear non-proliferation, particularly when nations such as Iran and North Korea are in violation. \"The world must stand together,\" Obama said. \"We must demonstrate that international law is not an empty promise.\" It was the first Security Council summit chaired by a U.S. president, and only the fifth time that Security Council heads of state have met. Obama led the meeting because the United States holds the revolving presidency of the Security Council in September. Both Obama and Russian President Dimitry Medvedev, who spoke later, said the world's two nuclear superpowers were working on reducing their stockpiles in advance of a global nuclear summit scheduled for next year. \"It's obvious that an effective solution ... depends on the constructive engagement of all parties,\" Medvedev said, adding that he expected the Russia-U.S. leadership on the issue to be backed by \"all nuclear powers.\" The measure passed Thursday -- Security Council resolution 1887 -- calls for \"locking down vulnerable nuclear weapons materials in four years\" while minimizing civilian use of weapons-grade uranium. It encourages full compliance with all international treaties and resolutions on nuclear non-proliferation and disarmament, including Security Council resolutions that cite North Korea and Iran for failing to adhere to international commitments. In addition, the resolution supports the peaceful use of nuclear energy, a theme backed by Chinese President Hu Jintao. China seeks to expand its nuclear energy capacity as part of an economic development plan that holds down greenhouse gas emissions that cause climate change. British Prime Minister Gordon Brown also cited the role of nuclear power as a clean energy source that should be part of the solution to global warming affecting every nation. Brown and other leaders spoke of the need to prevent nuclear weapons or the materials to make them from ending up in the hands of terrorist groups. \"The biggest risk the world faces today is of extremists getting hold of nuclear materials,\" said Mohammad ElBaradei, director general of the International Atomic Energy Agency. Libyan leader Moammar Gadhafi, who criticized the Security Council on Wednesday in a rambling speech to the U.N. General Assembly, was absent for the meeting. In Libya's turn to speak at the summit, its special representative to the United Nations called for the IAEA to inspect all nuclear programs, including Israel's, instead of focusing on non-nuclear states. Asked later about Gadhafi's absence, White House spokesman Robert Gibbs said Libya could serve as an example to Iran and North Korea as a nation that gave up its nuclear weapons program and now had rejoined the full international community. \"I think the message that the Libyans had at the Security Council is a message that we hope that the Iranians and the North Koreans will take to heart, and that is giving up a nuclear weapons program and the benefits that it can have for international cooperation and for their reintegration into an international community,\" Gibbs said. Brown earlier called for sanctions against Iran for its efforts to develop a nuclear weapon. On Wednesday, Medvedev signaled that Russia -- which previously has opposed such move -- also could support sanctions against Iran. \"Russia's position is clear: sanctions rarely lead to productive results, but in some cases sanctions are inevitable,\" Medvedev said in a joint appearance with Obama after they met in New York. The statement bolsters U.S.-led efforts for increased international pressure on Iran to adhere to nonproliferation agreements in pursuing the development of nuclear energy. Iran claims its nuclear program is intended for peaceful purposes, but the international community accuses it of continuing to try to develop nuclear weapons capability. The Iranian mission to the United Nations released a statement after the Security Council meeting, saying the country's nuclear activities \"are and always have been, for peaceful purposes, and, therefore, pose no threat whatsoever.\" \"In practicing its legitimate right to develop nuclear energy technology, Iran has always maintained its need for nuclear power as an alternative source of energy to supply its booming population and rapid development. ... Our commitment to nonproliferation remains intact,\" the statement added. The United States and Russia previously have disagreed over Iran, and over possible steps the Security Council may take -- including imposing sanctions -- to push Tehran to comply with U.N. demands concerning its nuclear program. Last week, Obama announced that the United States was dropping plans to base a missile defense shield system in Poland and the Czech Republic, a proposal that had rankled Moscow. He has denied the change was directly linked to Russia's position regarding sanctions on Iran, but said any Russian shift in that direction would be a bonus.'\n'>> Summary: NEW: Libya can serve as example of cooperation, White House spokesman says .\nResolution calls for preventing nuclear weapons from being stolen, used by military .\nObama, Russian President Dimitry Medvedev working to reduce stockpiles .\nVenezuelan president Hugo Chavez on \"Larry King Live\" tonight, 9 ET .'\n\n'>> Article: Cover-up: Former Archbishop Lord Hope allowed a paedophile priest to escape punishment for sex crimes, a judge's report claims . A former archbishop who failed to act on alleged crimes of a paedophile priest should be jailed, the abuser’s victims have said. Lord Hope, the former Archbishop of York, did not act on 19 occasions when allegations of abuse or inappropriate conduct by the priest were raised with him, a scathing report revealed yesterday. But despite that, Lord Hope remains as an honorary assistant bishop in the Diocese of Bradford. Eli Ward and Bim Atkinson, who were among seven victims of the Very Reverend Robert Waddington, former Dean of Manchester, said it is ‘incredible’ that the man who did nothing to stop the priest has been allowed to keep his post. The report by Judge Sally Cahill QC said Lord Hope failed to act because his ‘concern for the welfare of Robert Waddington seems to have been paramount’. Waddington, who kept an official position in the church until 2005 and died in 2007, targeted young choirboys over several decades. One of the seven victims committed suicide in 1989. Mr Atkinson, 59, who was abused when Waddington was a priest in Australia in the 1960s, sent a picture of disgraced Tory peer Lord Archer, who was jailed for perjury, to the Bishop of North Queensland Bill Ray, adding: ‘I would be pushing for Lord Hope to be treated in the same way as this fellow.’ Mr Ward, now 41, was abused by Waddington between the ages of 11 and 15 as a chorister at Manchester Cathedral. He said: ‘It’s just incredible Lord Hope still has a position. Here is a guy who shoved it all under the carpet. 'He failed and failed to do anything and yet nothing has happened to him. He is still allowed to sit in the House of Lords.’ He added: ‘I’d like to see him punished. My opinion is that he’s committed a crime, perverting the course of justice, and should face the consequences.’ Robert Waddington died in 2007 - he had been accused of abusing seven different victims between 1955 and 1996 . Mr Ward said he left the choir when he was 15 after church officials became concerned – but the priest was allowed to remain as the dean in charge of the cathedral until 1993. Waddington then moved to York Minster, where more children were abused. He stayed in a lesser post there until 2005, despite the allegations made to Lord Hope, according to the report, which was commissioned by current Archbishop of York, the Most Reverend John Sentamu. Mr Ward said: ‘Here we had a church body which had been preaching at us to be morally correct yet, when it came to doing the same thing themselves, they were incapable.’ Mr Ward, now living in the Home Counties with a long-term girlfriend, added that he has put the abuse behind him. But he believes Waddington’s abuse was responsible for the death of another victim, a former chorister from Carlisle named in the report only as Peter, who was abused in the 1970s, developed depression and schizophrenia, and committed suicide in 1989. Lord Hope, 76, has described Judge Cahill’s report as ‘flawed’ but offered a ‘personal and profound apology’. He said: ‘This report makes it clear that not applying the policy is not the same as a cover-up. Hindsight is a wonderful thing.’'\n'>> Summary: Very Reverend Robert Waddington sexually abused choirboys for decades .\nInquiry into the abuse has slammed Lord Hope, former Archbishop of York .\nReport claims he was made aware of misconduct 19 times but did not act .\nDespite this - he still holds influential post and sits in the House of Lords .'\n",
          "output_type": "stream"
        }
      ]
    },
    {
      "cell_type": "markdown",
      "source": [
        "## Loading the pre-trained model and preprocessing the data"
      ],
      "metadata": {
        "id": "Nb9RwSTy5BXP"
      }
    },
    {
      "cell_type": "code",
      "source": [
        "\n",
        "tokenizer = AutoTokenizer.from_pretrained(\"t5-small\")"
      ],
      "metadata": {
        "id": "_Mv5ZXLBKcw0",
        "trusted": true
      },
      "execution_count": null,
      "outputs": []
    },
    {
      "cell_type": "code",
      "source": [
        "batch_size = 8\n",
        "\n",
        "max_input_length = 512\n",
        "max_target_length = 128"
      ],
      "metadata": {
        "id": "2qSoRWcc3zq9",
        "trusted": true
      },
      "execution_count": null,
      "outputs": []
    },
    {
      "cell_type": "code",
      "source": [
        "def preprocess(examples):\n",
        "  inputs = tokenizer(examples[\"article\"], max_length = max_input_length, truncation = True)\n",
        "  labels = tokenizer(examples[\"highlights\"], max_length = max_target_length, truncation = True)\n",
        "  inputs[\"labels\"] = labels[\"input_ids\"]\n",
        "  return inputs\n",
        "\n",
        "dataset = data.map(preprocess, batched = True)"
      ],
      "metadata": {
        "id": "5-QWlXkR7iSP",
        "colab": {
          "base_uri": "https://localhost:8080/",
          "height": 113,
          "referenced_widgets": [
            "d8d9be6ebd824722a79ffa928b8c2d9e",
            "d53a67be452049678e78cb46aa2b174a",
            "aa40e6523f414b09bf54f83cfd4c0330",
            "cb0f6bed0d5842d993c6b84d079f949f",
            "d65fafcf2cca4c9b809e22f3d2c75877",
            "314d4d227a1e4470a0c7baa7d3f0c2b0",
            "f3aa7cd75ba744d3b5a85c739c54fae6",
            "aedab843523a4fc49943725d0eed2b74",
            "831419a6c3d34c53b6dcf2155d9dce73",
            "8c6359a0fa9244178c8b10b1b47b5605",
            "4f622f0e428748eb9b3dc50d294c7dae",
            "7fdb6de55cac490c83b33ccf3d410310",
            "01cdd46822da42b98f435e20009e4341",
            "8f8adf1e55b54c8394c47c6e21483617",
            "720f5c6972ab4c8d9dcb2c0d8651dede",
            "26f30a3b13414682a60a943b9cff0f3a",
            "4abe065cefca4120b3cb144afbab5db1",
            "55d7803d58ef43408472e34019f3db82",
            "0feabb3186a34fae8f823828c449eb9a",
            "edf36b11ada94005b2204cdb5abc3096",
            "f74644188475449ea2f9864b77b17ebd",
            "018a4293756e4a29a2505a431ae89b62",
            "7cba9bab65014d3a90d86dadea669937",
            "779a2d1107b641258ace247ce1e289b9",
            "483b35b9c09c4b6e8e2701b1eeb5cd00",
            "5f1d9c9db78049c689ae6c3ef67b3572",
            "3d5b2a5359aa450daf03d250206371c6",
            "3b75087b66d44d1ba5a2221ba2ca8675",
            "95e7f3e449d9479887fbc157763650db",
            "9d8f278552e7435ab2b257598b222580",
            "e629b5cea4d746a0a1eee0c6bb4ef5c9",
            "724c85fc995b43588174721e76fa13b4",
            "5576dd0d26fb4965a3d5ddc4340ccb34",
            "a085743f21874dbb9a64eac5e58e924d"
          ]
        },
        "outputId": "89994201-abe2-4a0c-948b-4c5a43d22443",
        "trusted": true
      },
      "execution_count": null,
      "outputs": [
        {
          "output_type": "display_data",
          "data": {
            "text/plain": "Map:   0%|          | 0/13368 [00:00<?, ? examples/s]",
            "application/vnd.jupyter.widget-view+json": {
              "version_major": 2,
              "version_minor": 0,
              "model_id": "a085743f21874dbb9a64eac5e58e924d"
            }
          },
          "metadata": {}
        }
      ]
    },
    {
      "cell_type": "code",
      "source": [
        "dataset = dataset.remove_columns(data[\"train\"].column_names)"
      ],
      "metadata": {
        "id": "-5ghoGCOFFBY",
        "trusted": true
      },
      "execution_count": null,
      "outputs": []
    },
    {
      "cell_type": "code",
      "source": [
        "dataset.set_format(\"torch\")"
      ],
      "metadata": {
        "id": "A15_ObYwHm-Q",
        "trusted": true
      },
      "execution_count": null,
      "outputs": []
    },
    {
      "cell_type": "code",
      "source": [
        "model = AutoModelForSeq2SeqLM.from_pretrained(\"t5-small\")\n"
      ],
      "metadata": {
        "id": "Bgq2Xz_sPmuQ",
        "trusted": true
      },
      "execution_count": null,
      "outputs": []
    },
    {
      "cell_type": "code",
      "source": [
        "data_collator = DataCollatorForSeq2Seq(tokenizer, model = model)\n"
      ],
      "metadata": {
        "id": "PG4si61r6uRw",
        "trusted": true
      },
      "execution_count": null,
      "outputs": []
    },
    {
      "cell_type": "code",
      "source": [
        "train_dataloader = DataLoader(\n",
        "    dataset[\"train\"],\n",
        "    shuffle=True,\n",
        "    collate_fn=data_collator,\n",
        "    batch_size=batch_size,\n",
        ")\n",
        "\n",
        "\n",
        "val_dataloader = DataLoader(\n",
        "    dataset[\"validation\"],\n",
        "    collate_fn=data_collator,\n",
        "    batch_size=batch_size\n",
        ")"
      ],
      "metadata": {
        "id": "B12qbAHoTGQ5",
        "trusted": true
      },
      "execution_count": null,
      "outputs": []
    },
    {
      "cell_type": "code",
      "source": [
        "\n",
        "rouge_score = evaluate.load(\"rouge\")"
      ],
      "metadata": {
        "id": "jG1e91hRa9Q1",
        "trusted": true
      },
      "execution_count": null,
      "outputs": []
    },
    {
      "cell_type": "markdown",
      "source": [
        "## Function for computing the outputs."
      ],
      "metadata": {
        "id": "rfHiRcfW5Z03"
      }
    },
    {
      "cell_type": "code",
      "source": [
        "\n",
        "def compute_metrics(eval_pred):\n",
        "    predictions, labels = eval_pred\n",
        "    decoded_preds = tokenizer.batch_decode(predictions, skip_special_tokens=True)\n",
        "    labels = np.where(labels != -100, labels, tokenizer.pad_token_id)\n",
        "    decoded_labels = tokenizer.batch_decode(labels, skip_special_tokens=True)\n",
        "\n",
        "    result = rouge_score.compute(predictions=decoded_preds, references=decoded_labels, use_stemmer=True)\n",
        "\n",
        "    prediction_lens = [np.count_nonzero(pred != tokenizer.pad_token_id) for pred in predictions]\n",
        "    result[\"gen_len\"] = np.mean(prediction_lens)\n",
        "\n",
        "    return {k: round(v, 4) for k, v in result.items()}"
      ],
      "metadata": {
        "id": "DA4lfP6Yk-Kw",
        "trusted": true
      },
      "execution_count": null,
      "outputs": []
    },
    {
      "cell_type": "markdown",
      "source": [
        "## Training"
      ],
      "metadata": {
        "id": "DrMW0mVw5jDd"
      }
    },
    {
      "cell_type": "code",
      "source": [
        "gcs_path = \"gs://t5m-s/Summarizer/T5_Model\" # Path for the end point to store the model weighs."
      ],
      "metadata": {
        "trusted": true,
        "id": "AFOKu5Qe4Tt5"
      },
      "execution_count": null,
      "outputs": []
    },
    {
      "cell_type": "code",
      "source": [
        "training_args = Seq2SeqTrainingArguments(\n",
        "    output_dir = gcs_path,\n",
        "    overwrite_output_dir = True,\n",
        "    num_train_epochs = 8,\n",
        "    per_device_train_batch_size = batch_size,\n",
        "    per_device_eval_batch_size = batch_size,\n",
        "    evaluation_strategy = \"epoch\",\n",
        "    save_strategy = \"epoch\",\n",
        "    warmup_steps = 0,\n",
        "    weight_decay = 0.01,\n",
        "    learning_rate = 3e-5,\n",
        "    predict_with_generate = True,\n",
        "    fp16 = True,\n",
        "    push_to_hub = False,\n",
        ")\n",
        "\n"
      ],
      "metadata": {
        "id": "YXZhFB0Gk-KO",
        "trusted": true
      },
      "execution_count": null,
      "outputs": []
    },
    {
      "cell_type": "code",
      "source": [
        "trainer = Seq2SeqTrainer(\n",
        "    model=model,\n",
        "    args=training_args,\n",
        "    train_dataset=dataset[\"train\"],\n",
        "    eval_dataset=dataset[\"test\"],\n",
        "    tokenizer=tokenizer,\n",
        "    data_collator=data_collator,\n",
        "    compute_metrics=compute_metrics,\n",
        ")"
      ],
      "metadata": {
        "id": "TKUFNAOUk-Im",
        "trusted": true
      },
      "execution_count": null,
      "outputs": []
    },
    {
      "cell_type": "code",
      "source": [
        "trainer.train()"
      ],
      "metadata": {
        "id": "VX6OuMKOk-BT",
        "colab": {
          "base_uri": "https://localhost:8080/",
          "height": 509
        },
        "outputId": "0004001f-27ad-43cf-cf97-2b0c0608f6f7",
        "trusted": true
      },
      "execution_count": null,
      "outputs": [
        {
          "name": "stderr",
          "text": "You're using a T5TokenizerFast tokenizer. Please note that with a fast tokenizer, using the `__call__` method is faster than using a method to encode the text followed by a call to the `pad` method to get a padded encoding.\n",
          "output_type": "stream"
        },
        {
          "output_type": "display_data",
          "data": {
            "text/plain": "<IPython.core.display.HTML object>",
            "text/html": "\n    <div>\n      \n      <progress value='287120' max='287120' style='width:300px; height:20px; vertical-align: middle;'></progress>\n      [287120/287120 8:09:00, Epoch 8/8]\n    </div>\n    <table border=\"1\" class=\"dataframe\">\n  <thead>\n <tr style=\"text-align: left;\">\n      <th>Epoch</th>\n      <th>Training Loss</th>\n      <th>Validation Loss</th>\n      <th>Rouge1</th>\n      <th>Rouge2</th>\n      <th>Rougel</th>\n      <th>Rougelsum</th>\n      <th>Gen Len</th>\n    </tr>\n  </thead>\n  <tbody>\n    <tr>\n      <td>1</td>\n      <td>2.005800</td>\n      <td>1.820930</td>\n      <td>0.247000</td>\n      <td>0.117400</td>\n      <td>0.203900</td>\n      <td>0.203900</td>\n      <td>18.999200</td>\n    </tr>\n    <tr>\n      <td>2</td>\n      <td>1.994900</td>\n      <td>1.800370</td>\n      <td>0.246900</td>\n      <td>0.117000</td>\n      <td>0.203600</td>\n      <td>0.203600</td>\n      <td>18.999500</td>\n    </tr>\n    <tr>\n      <td>3</td>\n      <td>1.948000</td>\n      <td>1.793804</td>\n      <td>0.247700</td>\n      <td>0.117600</td>\n      <td>0.204700</td>\n      <td>0.204700</td>\n      <td>18.999900</td>\n    </tr>\n    <tr>\n      <td>4</td>\n      <td>1.945900</td>\n      <td>1.788438</td>\n      <td>0.247800</td>\n      <td>0.118200</td>\n      <td>0.204900</td>\n      <td>0.204900</td>\n      <td>18.999900</td>\n    </tr>\n    <tr>\n      <td>5</td>\n      <td>1.924000</td>\n      <td>1.784401</td>\n      <td>0.247700</td>\n      <td>0.117900</td>\n      <td>0.204500</td>\n      <td>0.204600</td>\n      <td>18.999600</td>\n    </tr>\n    <tr>\n      <td>6</td>\n      <td>1.930100</td>\n      <td>1.782364</td>\n      <td>0.247700</td>\n      <td>0.117900</td>\n      <td>0.204400</td>\n      <td>0.204400</td>\n      <td>18.999900</td>\n    </tr>\n    <tr>\n      <td>7</td>\n      <td>1.928400</td>\n      <td>1.780812</td>\n      <td>0.247400</td>\n      <td>0.117700</td>\n      <td>0.204400</td>\n      <td>0.204500</td>\n      <td>18.999900</td>\n    </tr>\n    <tr>\n      <td>8</td>\n      <td>1.921700</td>\n      <td>1.779498</td>\n      <td>0.247300</td>\n      <td>0.117400</td>\n      <td>0.204100</td>\n      <td>0.204200</td>\n      <td>18.999900</td>\n    </tr>\n  </tbody>\n</table><p>"
          },
          "metadata": {}
        },
        {
          "execution_count": 25,
          "output_type": "execute_result",
          "data": {
            "text/plain": "TrainOutput(global_step=287120, training_loss=1.9475382236492405, metrics={'train_runtime': 29355.572, 'train_samples_per_second': 78.244, 'train_steps_per_second': 9.781, 'total_flos': 3.1086704005093786e+17, 'train_loss': 1.9475382236492405, 'epoch': 8.0})"
          },
          "metadata": {}
        }
      ]
    },
    {
      "cell_type": "code",
      "source": [
        "trainer.evaluate()"
      ],
      "metadata": {
        "id": "b7coc_TVk99f",
        "trusted": true,
        "outputId": "ce7d1d77-a6c2-4547-8d6b-d3089d073303"
      },
      "execution_count": null,
      "outputs": [
        {
          "output_type": "display_data",
          "data": {
            "text/plain": "<IPython.core.display.HTML object>",
            "text/html": "\n    <div>\n      \n      <progress value='1437' max='1437' style='width:300px; height:20px; vertical-align: middle;'></progress>\n      [1437/1437 06:23]\n    </div>\n    "
          },
          "metadata": {}
        },
        {
          "execution_count": 26,
          "output_type": "execute_result",
          "data": {
            "text/plain": "{'eval_loss': 1.779497742652893,\n 'eval_rouge1': 0.2473,\n 'eval_rouge2': 0.1174,\n 'eval_rougeL': 0.2041,\n 'eval_rougeLsum': 0.2042,\n 'eval_gen_len': 18.9999,\n 'eval_runtime': 434.4614,\n 'eval_samples_per_second': 26.447,\n 'eval_steps_per_second': 3.308,\n 'epoch': 8.0}"
          },
          "metadata": {}
        }
      ]
    },
    {
      "cell_type": "markdown",
      "source": [
        "## Uploading the model to Hugging Face hub"
      ],
      "metadata": {
        "id": "L7ZpxOyZ5ww2"
      }
    },
    {
      "cell_type": "code",
      "source": [
        "from huggingface_hub import notebook_login\n",
        "notebook_login()"
      ],
      "metadata": {
        "trusted": true,
        "colab": {
          "referenced_widgets": [
            "96d74eef823d4382849058856c68d436"
          ]
        },
        "id": "aEZXsk5_4Tt6",
        "outputId": "4f437d77-84e1-4ebe-d72e-7edb4b1c877f"
      },
      "execution_count": null,
      "outputs": [
        {
          "output_type": "display_data",
          "data": {
            "text/plain": "VBox(children=(HTML(value='<center> <img\\nsrc=https://huggingface.co/front/assets/huggingface_logo-noborder.sv…",
            "application/vnd.jupyter.widget-view+json": {
              "version_major": 2,
              "version_minor": 0,
              "model_id": "96d74eef823d4382849058856c68d436"
            }
          },
          "metadata": {}
        }
      ]
    },
    {
      "cell_type": "code",
      "source": [
        "trainer.push_to_hub()"
      ],
      "metadata": {
        "trusted": true,
        "colab": {
          "referenced_widgets": [
            "d2c458a3b0d84d198948de1127a172e9",
            "d67b867df3184cfb88361900fc1dae47",
            "6a011d6bcad9471a903bb7062d689a6c"
          ]
        },
        "id": "WxqqeslQ4Tt6",
        "outputId": "cd54a7f4-1d59-40b0-f07e-7e2713d7da22"
      },
      "execution_count": null,
      "outputs": [
        {
          "output_type": "display_data",
          "data": {
            "text/plain": "Upload 2 LFS files:   0%|          | 0/2 [00:00<?, ?it/s]",
            "application/vnd.jupyter.widget-view+json": {
              "version_major": 2,
              "version_minor": 0,
              "model_id": "d2c458a3b0d84d198948de1127a172e9"
            }
          },
          "metadata": {}
        },
        {
          "output_type": "display_data",
          "data": {
            "text/plain": "model.safetensors:   0%|          | 0.00/242M [00:00<?, ?B/s]",
            "application/vnd.jupyter.widget-view+json": {
              "version_major": 2,
              "version_minor": 0,
              "model_id": "d67b867df3184cfb88361900fc1dae47"
            }
          },
          "metadata": {}
        },
        {
          "output_type": "display_data",
          "data": {
            "text/plain": "training_args.bin:   0%|          | 0.00/4.28k [00:00<?, ?B/s]",
            "application/vnd.jupyter.widget-view+json": {
              "version_major": 2,
              "version_minor": 0,
              "model_id": "6a011d6bcad9471a903bb7062d689a6c"
            }
          },
          "metadata": {}
        },
        {
          "execution_count": 31,
          "output_type": "execute_result",
          "data": {
            "text/plain": "'https://huggingface.co/dheeraj-kj/T5_Model/tree/main/'"
          },
          "metadata": {}
        }
      ]
    },
    {
      "cell_type": "markdown",
      "source": [
        "## Inference"
      ],
      "metadata": {
        "id": "elL1S2S055ZJ"
      }
    },
    {
      "cell_type": "code",
      "source": [
        "from transformers import pipeline\n",
        "\n",
        "summarizer = pipeline(\"summarization\", model=\"dheeraj-kj/T5_Model\")\n"
      ],
      "metadata": {
        "trusted": true,
        "id": "92JxILC-4Tt6"
      },
      "execution_count": null,
      "outputs": []
    },
    {
      "cell_type": "code",
      "source": [
        "text = \"Artificial intelligence (AI) is a branch of computer science that aims to create machines capable of intelligent behavior. It involves the development of algorithms and models that enable computers to perform tasks that typically require human intelligence. AI applications can be found in various fields, including healthcare, finance, education, and entertainment.\\\n",
        "One prominent area of AI is machine learning, where systems learn from data to improve their performance on a specific task. Deep learning, a subset of machine learning, involves neural networks with many layers, allowing the model to automatically learn hierarchical representations. This has led to significant advancements in image and speech recognition, natural language processing, and other domains.\\\n",
        "While AI has shown remarkable progress, ethical considerations and responsible development are crucial. Issues related to bias in algorithms, privacy concerns, and the impact on employment are topics that researchers and policymakers are actively addressing. As AI continues to evolve, the need for ethical guidelines and regulations becomes increasingly important to ensure its positive impact on society.\""
      ],
      "metadata": {
        "trusted": true,
        "id": "lQW5oxaG4Tt6"
      },
      "execution_count": null,
      "outputs": []
    },
    {
      "cell_type": "code",
      "source": [
        "summarizer(text)"
      ],
      "metadata": {
        "trusted": true,
        "id": "43bFWDgr4Tt7",
        "outputId": "2b66d257-6a1f-40b1-b2ad-6426ed63a051"
      },
      "execution_count": null,
      "outputs": [
        {
          "execution_count": 7,
          "output_type": "execute_result",
          "data": {
            "text/plain": "[{'summary_text': 'Artificial intelligence is a branch of computer science that aims to create machines capable of intelligent behavior . It involves the development of algorithms that enable computers to perform tasks that typically require human intelligence .'}]"
          },
          "metadata": {}
        }
      ]
    },
    {
      "cell_type": "code",
      "source": [],
      "metadata": {
        "id": "XetVJrgp4TuE"
      },
      "execution_count": null,
      "outputs": []
    }
  ]
}